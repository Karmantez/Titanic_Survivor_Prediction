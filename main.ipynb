{
 "cells": [
  {
   "cell_type": "code",
   "execution_count": 1,
   "metadata": {},
   "outputs": [],
   "source": [
    "import numpy as np\n",
    "import pandas as pd"
   ]
  },
  {
   "cell_type": "code",
   "execution_count": 2,
   "metadata": {},
   "outputs": [],
   "source": [
    "from sklearn.tree import DecisionTreeClassifier\n",
    "\n",
    "from sklearn.model_selection import train_test_split, cross_val_score, GridSearchCV\n",
    "from sklearn.metrics import accuracy_score"
   ]
  },
  {
   "cell_type": "code",
   "execution_count": 3,
   "metadata": {},
   "outputs": [],
   "source": [
    "import preprocessing\n",
    "import algorithms"
   ]
  },
  {
   "cell_type": "code",
   "execution_count": 4,
   "metadata": {},
   "outputs": [],
   "source": [
    "titanic_df = pd.read_csv('./titanic/train.csv')\n",
    "y_titanic_df = titanic_df['Survived']\n",
    "X_titanic_df= titanic_df.drop('Survived',axis=1)\n",
    "\n",
    "X_titanic_df = preprocessing.process_null_data(X_titanic_df)\n",
    "X_titanic_df = preprocessing.drop_unnecessary_features(X_titanic_df)\n",
    "X_titanic_df = preprocessing.process_label_encoding(X_titanic_df)"
   ]
  },
  {
   "cell_type": "code",
   "execution_count": 5,
   "metadata": {},
   "outputs": [],
   "source": [
    "X_train, X_test, y_train, y_test = train_test_split(X_titanic_df, y_titanic_df, test_size=0.3)"
   ]
  },
  {
   "cell_type": "code",
   "execution_count": 6,
   "metadata": {},
   "outputs": [
    {
     "name": "stdout",
     "output_type": "stream",
     "text": [
      "DecisionTreeClassifier Accuracy: 73.5075%\n",
      "==================================================\n",
      "RandomForestClassifier Accuracy: 77.2388%\n",
      "==================================================\n",
      "LogisticRegression Accuracy: 76.8657%\n",
      "==================================================\n"
     ]
    }
   ],
   "source": [
    "for model in ['dtc', 'rfc', 'lr']:\n",
    "    predict_result = algorithms.processing(X_train, X_test, y_train, X_titanic_df, y_titanic_df, model)\n",
    "    \n",
    "    model_name = 'DecisionTreeClassifier'\n",
    "    if model == 'rfc':\n",
    "        model_name = 'RandomForestClassifier'\n",
    "    elif model == 'lr':\n",
    "        model_name = 'LogisticRegression'\n",
    "    \n",
    "    print('{0} Accuracy: {1:.4f}%'.format(model_name, accuracy_score(y_test, predict_result) * 100.0))\n",
    "    print('=' * 50)"
   ]
  },
  {
   "cell_type": "code",
   "execution_count": 7,
   "metadata": {},
   "outputs": [],
   "source": [
    "dtc = DecisionTreeClassifier()"
   ]
  },
  {
   "cell_type": "code",
   "execution_count": 8,
   "metadata": {},
   "outputs": [
    {
     "name": "stdout",
     "output_type": "stream",
     "text": [
      "Cross Validation 0 Accuracy: 53.0726%\n",
      "Cross Validation 1 Accuracy: 79.2135%\n",
      "Cross Validation 2 Accuracy: 81.4607%\n",
      "Cross Validation 3 Accuracy: 77.5281%\n",
      "Cross Validation 4 Accuracy: 82.0225%\n",
      "Average Accuracy: 74.66%\n"
     ]
    }
   ],
   "source": [
    "scores = cross_val_score(dtc, X_titanic_df , y_titanic_df , cv=5)\n",
    "for iter_count,accuracy in enumerate(scores):\n",
    "    print(\"Cross Validation {0} Accuracy: {1:.4f}%\".format(iter_count, accuracy * 100.0))\n",
    "\n",
    "print(\"Average Accuracy: {0:.2f}%\".format(np.mean(scores) * 100.0))"
   ]
  },
  {
   "cell_type": "code",
   "execution_count": 9,
   "metadata": {},
   "outputs": [
    {
     "name": "stdout",
     "output_type": "stream",
     "text": [
      "Test Set DecisionTreeClassifier Accuracy : 76.4925%\n"
     ]
    }
   ],
   "source": [
    "parameters = {'max_depth':[2,3,5,10],\n",
    "             'min_samples_split':[2,3,5], 'min_samples_leaf':[1,5,8]}\n",
    "\n",
    "grid_dclf = GridSearchCV(dtc , param_grid=parameters , scoring='accuracy' , cv=5)\n",
    "grid_dclf.fit(X_train , y_train)\n",
    "\n",
    "best_dclf = grid_dclf.best_estimator_\n",
    "\n",
    "dpredictions = best_dclf.predict(X_test)\n",
    "accuracy = accuracy_score(y_test , dpredictions)\n",
    "print('Test Set DecisionTreeClassifier Accuracy : {0:.4f}%'.format(accuracy * 100.0))"
   ]
  },
  {
   "cell_type": "code",
   "execution_count": 10,
   "metadata": {},
   "outputs": [],
   "source": [
    "validation = pd.read_csv('./titanic/test.csv')"
   ]
  },
  {
   "cell_type": "code",
   "execution_count": 11,
   "metadata": {},
   "outputs": [],
   "source": [
    "validation = preprocessing.process_null_data(validation)\n",
    "validation = preprocessing.drop_unnecessary_features(validation)\n",
    "validation = preprocessing.process_label_encoding(validation)"
   ]
  },
  {
   "cell_type": "code",
   "execution_count": 12,
   "metadata": {},
   "outputs": [],
   "source": [
    "result = best_dclf.predict(validation)"
   ]
  },
  {
   "cell_type": "code",
   "execution_count": 26,
   "metadata": {},
   "outputs": [],
   "source": [
    "submission = pd.DataFrame({\n",
    "    'PassengerId': validation['PassengerId'],\n",
    "    'Survived': result\n",
    "})"
   ]
  },
  {
   "cell_type": "code",
   "execution_count": 27,
   "metadata": {},
   "outputs": [],
   "source": [
    "submission.to_csv('./submission.csv', index=False)"
   ]
  }
 ],
 "metadata": {
  "kernelspec": {
   "display_name": "Python 3",
   "language": "python",
   "name": "python3"
  },
  "language_info": {
   "codemirror_mode": {
    "name": "ipython",
    "version": 3
   },
   "file_extension": ".py",
   "mimetype": "text/x-python",
   "name": "python",
   "nbconvert_exporter": "python",
   "pygments_lexer": "ipython3",
   "version": "3.7.7"
  }
 },
 "nbformat": 4,
 "nbformat_minor": 4
}
