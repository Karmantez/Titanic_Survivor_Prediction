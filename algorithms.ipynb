{
 "cells": [
  {
   "cell_type": "code",
   "execution_count": 1,
   "metadata": {},
   "outputs": [],
   "source": [
    "import numpy as np"
   ]
  },
  {
   "cell_type": "code",
   "execution_count": 2,
   "metadata": {},
   "outputs": [],
   "source": [
    "from sklearn.tree import DecisionTreeClassifier\n",
    "from sklearn.ensemble import RandomForestClassifier\n",
    "from sklearn.linear_model import LogisticRegression\n",
    "\n",
    "from sklearn.model_selection import KFold\n",
    "from sklearn.metrics import accuracy_score"
   ]
  },
  {
   "cell_type": "code",
   "execution_count": 3,
   "metadata": {},
   "outputs": [],
   "source": [
    "def process_kfold(model, X_titanic_df, y_titanic_df, folds=5):\n",
    "    kfold = KFold(n_splits=folds)\n",
    "    scores = []\n",
    "\n",
    "    for iter_count , (train_index, test_index) in enumerate(kfold.split(X_titanic_df)):\n",
    "\n",
    "        X_train, X_test = X_titanic_df.values[train_index], X_titanic_df.values[test_index]\n",
    "        y_train, y_test = y_titanic_df.values[train_index], y_titanic_df.values[test_index]\n",
    "\n",
    "        model.fit(X_train, y_train) \n",
    "        predictions = model.predict(X_test)\n",
    "        accuracy = accuracy_score(y_test, predictions)\n",
    "        scores.append(accuracy)\n",
    "        print(\"KFold {0} Accuracy: {1:.4f}\".format(iter_count, accuracy))     \n",
    "\n",
    "    mean_score = np.mean(scores)\n",
    "    print(\"Average Accuracy: {0:.4f}\".format(mean_score)) "
   ]
  },
  {
   "cell_type": "code",
   "execution_count": 4,
   "metadata": {},
   "outputs": [],
   "source": [
    "def processing(X_train, X_test, y_train, X_titanic_df, y_titanic_df, algorithm='dtc'):\n",
    "    \n",
    "    predict_ret = np.empty([1, 1])\n",
    "    \n",
    "    if algorithm == 'dtc':\n",
    "        dtc = DecisionTreeClassifier()\n",
    "        dtc.fit(X_train, y_train)\n",
    "        predict_ret = dtc.predict(X_test)\n",
    "        process_kfold(dtc, X_titanic_df, y_titanic_df)\n",
    "    elif algorithm == 'rfc':\n",
    "        rfc = RandomForestClassifier()\n",
    "        rfc.fit(X_train, y_train)\n",
    "        predict_ret = rfc.predict(X_test)\n",
    "        process_kfold(rfc, X_titanic_df, y_titanic_df)\n",
    "    elif algorithm == 'lr':\n",
    "        lr = RandomForestClassifier()\n",
    "        lr.fit(X_train, y_train)\n",
    "        predict_ret = lr.predict(X_test)\n",
    "        process_kfold(lr, X_titanic_df, y_titanic_df)\n",
    "    return predict_ret"
   ]
  },
  {
   "cell_type": "code",
   "execution_count": null,
   "metadata": {},
   "outputs": [],
   "source": []
  }
 ],
 "metadata": {
  "kernelspec": {
   "display_name": "Python 3",
   "language": "python",
   "name": "python3"
  },
  "language_info": {
   "codemirror_mode": {
    "name": "ipython",
    "version": 3
   },
   "file_extension": ".py",
   "mimetype": "text/x-python",
   "name": "python",
   "nbconvert_exporter": "python",
   "pygments_lexer": "ipython3",
   "version": "3.7.7"
  }
 },
 "nbformat": 4,
 "nbformat_minor": 4
}
